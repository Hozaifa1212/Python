{
  "nbformat": 4,
  "nbformat_minor": 0,
  "metadata": {
    "colab": {
      "provenance": [],
      "authorship_tag": "ABX9TyNjka50DWQHJZmqPp/0sNg6",
      "include_colab_link": true
    },
    "kernelspec": {
      "name": "python3",
      "display_name": "Python 3"
    },
    "language_info": {
      "name": "python"
    }
  },
  "cells": [
    {
      "cell_type": "markdown",
      "metadata": {
        "id": "view-in-github",
        "colab_type": "text"
      },
      "source": [
        "<a href=\"https://colab.research.google.com/github/Hozaifa1212/Python/blob/main/TranscriptionGeneratorB_Y.ipynb\" target=\"_parent\"><img src=\"https://colab.research.google.com/assets/colab-badge.svg\" alt=\"Open In Colab\"/></a>"
      ]
    },
    {
      "cell_type": "code",
      "source": [
        "import os"
      ],
      "metadata": {
        "id": "6qtaR0NjNZTc"
      },
      "execution_count": null,
      "outputs": []
    },
    {
      "cell_type": "code",
      "source": [
        "import urllib.request"
      ],
      "metadata": {
        "id": "dBwlj_bsNkn4"
      },
      "execution_count": null,
      "outputs": []
    },
    {
      "cell_type": "code",
      "source": [
        "import subprocess"
      ],
      "metadata": {
        "id": "z8uQPIgGXE-R"
      },
      "execution_count": null,
      "outputs": []
    },
    {
      "cell_type": "code",
      "source": [
        "import shutil"
      ],
      "metadata": {
        "id": "LZgjrBY0XbkW"
      },
      "execution_count": null,
      "outputs": []
    },
    {
      "cell_type": "code",
      "source": [
        "pip install pytube pydub SpeechRecognition"
      ],
      "metadata": {
        "id": "d7p57bIxOCj2"
      },
      "execution_count": null,
      "outputs": []
    },
    {
      "cell_type": "code",
      "source": [
        "from pytube import YouTube\n",
        "from pydub import AudioSegment"
      ],
      "metadata": {
        "id": "v2usLWtlzO9H"
      },
      "execution_count": null,
      "outputs": []
    },
    {
      "cell_type": "code",
      "execution_count": null,
      "metadata": {
        "id": "8w02exZwID_q"
      },
      "outputs": [],
      "source": [
        "import moviepy.editor as mp"
      ]
    },
    {
      "cell_type": "code",
      "source": [
        "import speech_recognition as sr"
      ],
      "metadata": {
        "id": "GXUf4rzKIkag"
      },
      "execution_count": null,
      "outputs": []
    },
    {
      "cell_type": "code",
      "source": [
        "def ensure_yt_dlp():\n",
        "\n",
        "    if not shutil.which(\"yt-dlp\"):\n",
        "        print(\"yt-dlp is not installed. Installing...\")\n",
        "        subprocess.run([\"pip\", \"install\", \"yt-dlp\"], check=True)"
      ],
      "metadata": {
        "id": "MVK9CXh-Xjyo"
      },
      "execution_count": null,
      "outputs": []
    },
    {
      "cell_type": "code",
      "source": [
        "def download_audio(youtube_url, output_path=\"audio\"):\n",
        "\n",
        "    try:\n",
        "        ensure_yt_dlp()\n",
        "\n",
        "        if not os.path.exists(output_path):\n",
        "            os.makedirs(output_path)\n",
        "\n",
        "        print(\"Downloading audio using yt-dlp...\")\n",
        "        command = [\n",
        "            \"yt-dlp\",\n",
        "            \"-f\",\n",
        "            \"bestaudio[ext=m4a]\",\n",
        "            \"--extract-audio\",\n",
        "            \"--audio-format\",\n",
        "            \"mp3\",\n",
        "            \"-o\",\n",
        "            f\"{output_path}/audio.%(ext)s\",\n",
        "            youtube_url\n",
        "        ]\n",
        "        subprocess.run(command, check=True)\n",
        "\n",
        "        audio_file = os.path.join(output_path, \"audio.mp3\")\n",
        "\n",
        "        if not os.path.exists(audio_file):\n",
        "            raise FileNotFoundError(\"Audio file could not be downloaded.\")\n",
        "\n",
        "        print(f\"Downloaded audio to {audio_file}\")\n",
        "        return audio_file\n",
        "    except subprocess.CalledProcessError as e:\n",
        "        print(f\"yt-dlp command failed: {e}\")\n",
        "        raise\n",
        "    except Exception as e:\n",
        "        print(f\"Error in audio download: {e}\")\n",
        "        raise\n"
      ],
      "metadata": {
        "id": "I-se468QwXdc"
      },
      "execution_count": null,
      "outputs": []
    },
    {
      "cell_type": "code",
      "source": [
        "def split_audio(audio_file, chunk_length_ms=60000):\n",
        "\n",
        "    try:\n",
        "        audio = AudioSegment.from_file(audio_file)\n",
        "        chunks = []\n",
        "        for start in range(0, len(audio), chunk_length_ms):\n",
        "            chunk = audio[start:start + chunk_length_ms]\n",
        "            chunk_filename = f\"chunk_{start // chunk_length_ms}.wav\"\n",
        "            chunk.export(chunk_filename, format=\"wav\")\n",
        "            chunks.append(chunk_filename)\n",
        "        return chunks\n",
        "    except Exception as e:\n",
        "        print(f\"Error splitting audio: {e}\")\n",
        "        raise\n"
      ],
      "metadata": {
        "id": "0AU9LFS62CrP"
      },
      "execution_count": null,
      "outputs": []
    },
    {
      "cell_type": "code",
      "source": [
        "def transcribe_audio(audio_file, language=\"bn-BD\"):\n",
        "    recognizer = sr.Recognizer()\n",
        "\n",
        "    try:\n",
        "        with sr.AudioFile(audio_file) as source:\n",
        "            audio_data = recognizer.record(source)\n",
        "        text = recognizer.recognize_google(audio_data, language=language)\n",
        "        return text\n",
        "    except sr.UnknownValueError:\n",
        "        return \"Google Speech Recognition could not understand the audio.\"\n",
        "    except sr.RequestError as e:\n",
        "        return f\"Could not request results from Google Speech Recognition service; {e}\"\n",
        "    except Exception as e:\n",
        "        print(f\"Error during transcription: {e}\")\n",
        "        raise\n"
      ],
      "metadata": {
        "id": "Ojizg-zIIqhZ"
      },
      "execution_count": null,
      "outputs": []
    },
    {
      "cell_type": "code",
      "source": [
        "def alternative_download_audio(youtube_url, output_path=\"audio\"):\n",
        "    try:\n",
        "        if not os.path.exists(output_path):\n",
        "            os.makedirs(output_path)\n",
        "\n",
        "        print(\"Downloading audio using yt-dlp...\")\n",
        "        command = f\"yt-dlp -f 'bestaudio[ext=m4a]' --extract-audio --audio-format mp3 -o '{output_path}/audio.%(ext)s' {youtube_url}\"\n",
        "        os.system(command)\n",
        "\n",
        "        audio_file = os.path.join(output_path, \"audio.mp3\")\n",
        "\n",
        "        if not os.path.exists(audio_file):\n",
        "            raise FileNotFoundError(\"Audio file could not be downloaded.\")\n",
        "\n",
        "        print(f\"Downloaded audio to {audio_file}\")\n",
        "        return audio_file\n",
        "    except Exception as e:\n",
        "        print(f\"Error in alternative audio download: {e}\")\n",
        "        raise\n"
      ],
      "metadata": {
        "id": "SgoTQvSsVDq3"
      },
      "execution_count": null,
      "outputs": []
    },
    {
      "cell_type": "code",
      "source": [
        "if __name__ == \"__main__\":\n",
        "\n",
        "    # YouTube video URL\n",
        "    video_url = \"https://www.youtube.com/watch?v=gbCjCtqtg_E\"\n",
        "\n",
        "    try:\n",
        "\n",
        "        # Step 1: Download the audio from the YouTube video\n",
        "        print(\"Attempting to download audio...\")\n",
        "        #audio_path = alternative_download_audio(video_url)\n",
        "        audio_path = download_audio(video_url)\n",
        "\n",
        "        # Step 2: Extract audio chunks (optional, based on audio length)\n",
        "        print(\"Splitting audio into chunks...\")\n",
        "        chunks = split_audio(audio_path)\n",
        "\n",
        "        # Step 3: Transcribe each audio chunk\n",
        "        transcribed_text = \"\"\n",
        "        for chunk in chunks:\n",
        "            print(f\"Transcribing {chunk}...\")\n",
        "            text = transcribe_audio(chunk, language=\"bn-BD\")\n",
        "            transcribed_text += text + \"\\n\"\n",
        "\n",
        "        # Output the transcribed text\n",
        "        print(\"\\nThe resultant text from the video is (in Bengali):\\n\")\n",
        "        print(transcribed_text)\n",
        "\n",
        "        # Optionally save the transcription to a file\n",
        "        with open(\"transcription.txt\", \"w\", encoding=\"utf-8\") as f:\n",
        "            f.write(transcribed_text)\n",
        "\n",
        "\n",
        "    except Exception as e:\n",
        "        print(f\"An error occurred: {e}\")\n"
      ],
      "metadata": {
        "id": "VIVjrzVsGVv6"
      },
      "execution_count": null,
      "outputs": []
    },
    {
      "cell_type": "code",
      "source": [],
      "metadata": {
        "id": "YQOpQXwyRjso"
      },
      "execution_count": null,
      "outputs": []
    }
  ]
}